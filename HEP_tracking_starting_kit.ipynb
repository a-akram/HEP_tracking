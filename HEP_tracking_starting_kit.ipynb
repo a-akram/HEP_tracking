{
 "cells": [
  {
   "cell_type": "markdown",
   "metadata": {},
   "source": [
    "# [Paris Saclay Center for Data Science](http://www.datascience-paris-saclay.fr)\n",
    "\n",
    "## [RAMP](https://www.ramp.studio/problems/HEP_tracking) on charged particle tracking in 2D with a possible future LHC Silicon detector\n",
    "\n",
    "_Thomas Boser (CHALEARN), Isabelle Guyon (LRI UPSud/INRIA), Mikhail Hushchyn (YSDA/Russia), Balázs Kégl (LAL/Orsay), David Rousseau (LAL/Orsay), Yetkin Yılmaz (LAL/Orsay)_"
   ]
  },
  {
   "cell_type": "markdown",
   "metadata": {},
   "source": [
    "## Introduction\n",
    "\n",
    "Tracking is one of the most important tasks in a high-energy physics experiment, as it provides high-precision position and momentum information belonging to charged particles. Such information is crucial for a diverse variety of physics studies - from Standard Model tests to new particle searches - which requires robust low-level optimization without information loss which can be further refined for a narrower and more specific physics context.\n",
    "\n",
    "Through the history of high-energy physics, there have been many different types of tracking detectors with very different design principles: from bubble chambers to time-projection chambers, from proportional counters to spark chambers... Although each of these have provided a different data topology, they all relied on simple basics: the small energy deposit of particles in well-defined locations, with particles bending in an externally applied magnetic field.\n",
    "\n",
    "In this challenge, we focus on the topology of silicon detectors in which there are few locations along the polar axis, however a very high precision along the azimuth. Such topology helps to reduce the tracking problem to layer-by-layer azimuth determination, however, we hope to open room for further innovation as well.\n",
    "\n",
    "\n",
    "## Quick Glossary\n",
    "\n",
    "We use the following vocabulary in the context of this challenge. It may be slightly different from the general high-energy physics context. Some terms are not used in the workbook, but kept here in case they are used in the discussions.\n",
    "\n",
    "* **event**: a recorded (or simulated) collision in which many particles are present, the basic unit of particle physics data\n",
    "* **pixel**: the smallest detector unit\n",
    "* **hit**: a pixel through which a particle has passed and left signal in a given event\n",
    "* **cluster**: a set of hits, belonging (or predicted to be belonging) to the trajectory of a single particle\n",
    "* **reconstruct**: same thing as predict, but may also refer to further derived quantities\n",
    "* **track**: a reconstructed particle, that is, a cluster but also including additional derived information, such as the overall curvature and angle\n",
    "* **vertex**: the point close to the center of the detector, from which the particles have originated\n",
    "* **impact parameter**: the shortest distance between a track and the origin\n",
    "* **(momentum/angle/etc) resolution** : width of the normal distribution of the difference between a predicted quantity and the true value of that quantity\n",
    "\n",
    "## Objectives\n",
    "\n",
    "The main objective of the challenge is the optimal matching of the hits in an event. The positions of the hits in the detector are provided as input data, and the user is expected to implement a clustering scheme (trained on data if needed), so that every hit is assigned to a cluster id.\n",
    "\n",
    "The value of the cluster id itself is not relevant for the task, what is relevant is which hits are clustered together, and whether this clustering corresponds well to the input particles. The score function that describes this is included in the notebook, and details will be mentioned there.\n",
    "\n",
    "## Application\n",
    "\n",
    "The user is expected to implement the class `clusterer.py`, which contains the `__init__`, `fit`, and `predict_single_event` functions.\n",
    "\n",
    "* **`__init__`** is where parameters should be set.\n",
    "* **`fit`** is the training function (not to be confused with track-fitting), where the algorithm has access to the ground-truth. This function is to be run once on an input array that contains a set of training events. The user is able to implement any event-level or particle-level segmentation of the input array in order to set up the training in any desired way.\n",
    "* **`predict_single_event`** is the function to reconstruct the hit clusters (tracks), returning an array of predicted (reconstructed) ids associated to each hit in the input array. This function takes only the hits from a single event as input, with the event_id dropped, and the RAMP machinery takes care of running this function on each event.\n",
    "\n",
    "The **task** in the challenge is to implement this class in a way that the predict_single_event function returns a numpy array of assigned cluster ids. At any level of this task, machine-learning techniques can be employed for sub-tasks defined by the user.\n",
    "\n",
    "## Detector\n",
    "\n",
    "Image from the Atlas experiment:\n",
    "\n",
    "![Atlas detector](http://atlasexperiment.org/photos/atlas_photos/selected-photos/events/atlas2009-collision-atlantis-141749-405315-hits-web.png)\n",
    "\n",
    "The data provided to the user is a list of hit positions from a simple toy detector model that mimics the Atlas detector design (which is generic enough for recent silicon-based tracking detectors). The detector has an onion-like geometry with 9 layers surrounding the origin with polar distances of $R = [39,85,155,213,271,405,562,762,1000]$ cm. These layers have a very small thicknesses compared to the distances, therefore the thickness can be neglected.\n",
    "\n",
    "Each layer is segmented in azimuth with high granularity. There are ($2\\pi$R/pitch)+1 pixels in every layer, where pitch is 0.025 cm for layers 0-4 and 0.05 cm for layers 5-9.\n",
    "\n",
    "Every \"pixel\" corresponds to the smallest detector unit defined by `layer` and `iphi` (azimuthal index).\n",
    "\n",
    "## Simulation\n",
    "\n",
    "The challenge uses a toy model for particle generation and simulation, in which a Poisson distribution is sampled to determine the number of particles in each event, with an average of 10 particles per event.\n",
    "\n",
    "The particles are sampled uniformly in azimuth and momentum with bounds on the momentum. Each particle originates from a vertex that is also randomly sampled from a narrow normal distribution around the origin. The proper dimensions of the momentum and position and determination of these values for the tracks are beyond the scope of the challenge.\n",
    "\n",
    "The particles generated this way are simulated in a uniform magnetic field. The detector material is considered to cause multiple-scattering, and this is implemented as a random rotation of the particle momentum at every detector position, sampled from a narrow normal distribution that roughly corresponds to the material of the Atlas tracker.\n",
    "\n",
    "In addition, some hit inefficiency is simulated by a random drop of some hits (with 3% probability), and a particle stopping probability of 1% is applied at each layer to simulate effects of hadronic interactions. Keeping these in mind, the algorithms might be desired to be able to handle cases when the particle doesn't have a hit on every layer.\n",
    "\n",
    "Since the detector has a very high granularity in azimuth, the cases where two particles pass through a single pixel are neglected (less than 0.2% probability).\n",
    "\n",
    "## Beyond the challenge\n",
    "\n",
    "The following aspects of tracking fall out of scope of the challenge:\n",
    "\n",
    "* Track fitting\n",
    "* Particle efficiency\n",
    "* Fake tracks\n",
    "* Momentum resolution\n",
    "* Vertex finding and impact parameter resolution\n",
    "* Tracking in 3D\n",
    "\n",
    "Fake combinatorial tracks do affect the score in an indirect way, by reducing the efficiency due to one-to-one assignment between true and predicted cluster ids. If there are fake tracks, that is, clusters that contain hits belonging to many different particles, then the good cluster attached to each of these particles will be missing some of the hits."
   ]
  },
  {
   "cell_type": "markdown",
   "metadata": {},
   "source": [
    "## Requirements\n",
    "\n",
    "* numpy>=1.10.0  \n",
    "* matplotlib>=1.5.0 \n",
    "* pandas>=0.17.0  \n",
    "* scikit-learn>=0.17 (different syntaxes for v0.17 and v0.18)  "
   ]
  },
  {
   "cell_type": "code",
   "execution_count": 1,
   "metadata": {
    "collapsed": true
   },
   "outputs": [],
   "source": [
    "%matplotlib inline\n",
    "import numpy as np\n",
    "import matplotlib.pyplot as plt\n",
    "import pandas as pd"
   ]
  },
  {
   "cell_type": "markdown",
   "metadata": {},
   "source": [
    "## Exploratory data analysis"
   ]
  },
  {
   "cell_type": "markdown",
   "metadata": {},
   "source": [
    "### Loading the data"
   ]
  },
  {
   "cell_type": "code",
   "execution_count": 2,
   "metadata": {
    "collapsed": true
   },
   "outputs": [],
   "source": [
    "filename = \"data/train.csv\"\n",
    "df = pd.read_csv(filename)"
   ]
  },
  {
   "cell_type": "markdown",
   "metadata": {},
   "source": [
    "The data consists of the following columns:\n",
    "\n",
    "* **`event_id`** (integer): The event number; particles that have the same event id belong to the same event. Notice that the event ids are not consecutive since this is a randomly sampled subset of the full sample.\n",
    "* **`cluster_id`** (integer): The true cluster id corresponds to the particle that created the hits. The predicted cluster id will correspond to the label of the cluster that is reconstructed. The value itself of the reconstructed cluster is irrelevant, what matters is how the hits are grouped with those ids. The only requirement on the predicted cluster ids is that they are non-negative for properly reconstructed clusters. A value of -1 means that hit is not associated to any cluster.\n",
    "* **`layer`** (integer): The detector layer that the hit sits in, representing how far the hit is from the origin. The distances of the various layers were mentioned above in *Detector*.\n",
    "* **`iphi`** (integer): The azimuthal id of the pixel along a given layer. The $\\phi$ position of the hit can be determined form this value based on how many segmentations that layer has, which was described in *Detector*.\n",
    "* **`x`** (float): The $x$ position of the hit, in cm.\n",
    "* **`y`** (float): The $y$ position of the hit, in cm.\n",
    "\n",
    "Notice that the information provided in data is redundant: the `layer` & `iphi` and `x` & `y` values can be computed from each other. It is provided this way for the sake of convenience, so be careful when you need to feed algorithms with independent variables.\n",
    "\n",
    "The array indices of the above variables may change depending on whether the event id has been dropped or not, therefore make sure you are careful in using the index for the variable you want to pick up."
   ]
  },
  {
   "cell_type": "code",
   "execution_count": 3,
   "metadata": {},
   "outputs": [
    {
     "data": {
      "text/html": [
       "<div>\n",
       "<table border=\"1\" class=\"dataframe\">\n",
       "  <thead>\n",
       "    <tr style=\"text-align: right;\">\n",
       "      <th></th>\n",
       "      <th>event_id</th>\n",
       "      <th>cluster_id</th>\n",
       "      <th>layer</th>\n",
       "      <th>iphi</th>\n",
       "      <th>x</th>\n",
       "      <th>y</th>\n",
       "    </tr>\n",
       "  </thead>\n",
       "  <tbody>\n",
       "    <tr>\n",
       "      <th>0</th>\n",
       "      <td>4</td>\n",
       "      <td>8</td>\n",
       "      <td>2</td>\n",
       "      <td>7830</td>\n",
       "      <td>46.974183</td>\n",
       "      <td>147.710616</td>\n",
       "    </tr>\n",
       "    <tr>\n",
       "      <th>1</th>\n",
       "      <td>4</td>\n",
       "      <td>4</td>\n",
       "      <td>5</td>\n",
       "      <td>42052</td>\n",
       "      <td>186.731559</td>\n",
       "      <td>-359.383256</td>\n",
       "    </tr>\n",
       "    <tr>\n",
       "      <th>2</th>\n",
       "      <td>4</td>\n",
       "      <td>9</td>\n",
       "      <td>3</td>\n",
       "      <td>46355</td>\n",
       "      <td>141.775135</td>\n",
       "      <td>-158.961666</td>\n",
       "    </tr>\n",
       "    <tr>\n",
       "      <th>3</th>\n",
       "      <td>4</td>\n",
       "      <td>10</td>\n",
       "      <td>1</td>\n",
       "      <td>18866</td>\n",
       "      <td>63.089465</td>\n",
       "      <td>-56.962438</td>\n",
       "    </tr>\n",
       "    <tr>\n",
       "      <th>4</th>\n",
       "      <td>4</td>\n",
       "      <td>0</td>\n",
       "      <td>3</td>\n",
       "      <td>22217</td>\n",
       "      <td>-183.348295</td>\n",
       "      <td>108.408499</td>\n",
       "    </tr>\n",
       "    <tr>\n",
       "      <th>5</th>\n",
       "      <td>4</td>\n",
       "      <td>3</td>\n",
       "      <td>6</td>\n",
       "      <td>6880</td>\n",
       "      <td>459.967978</td>\n",
       "      <td>322.914012</td>\n",
       "    </tr>\n",
       "    <tr>\n",
       "      <th>6</th>\n",
       "      <td>4</td>\n",
       "      <td>6</td>\n",
       "      <td>8</td>\n",
       "      <td>22862</td>\n",
       "      <td>414.778170</td>\n",
       "      <td>909.922562</td>\n",
       "    </tr>\n",
       "    <tr>\n",
       "      <th>7</th>\n",
       "      <td>4</td>\n",
       "      <td>8</td>\n",
       "      <td>6</td>\n",
       "      <td>14056</td>\n",
       "      <td>176.935865</td>\n",
       "      <td>533.420753</td>\n",
       "    </tr>\n",
       "    <tr>\n",
       "      <th>8</th>\n",
       "      <td>4</td>\n",
       "      <td>5</td>\n",
       "      <td>8</td>\n",
       "      <td>9204</td>\n",
       "      <td>895.964168</td>\n",
       "      <td>444.126344</td>\n",
       "    </tr>\n",
       "    <tr>\n",
       "      <th>9</th>\n",
       "      <td>4</td>\n",
       "      <td>5</td>\n",
       "      <td>1</td>\n",
       "      <td>1501</td>\n",
       "      <td>76.850693</td>\n",
       "      <td>36.317639</td>\n",
       "    </tr>\n",
       "    <tr>\n",
       "      <th>10</th>\n",
       "      <td>4</td>\n",
       "      <td>9</td>\n",
       "      <td>5</td>\n",
       "      <td>44015</td>\n",
       "      <td>267.519495</td>\n",
       "      <td>-304.069597</td>\n",
       "    </tr>\n",
       "    <tr>\n",
       "      <th>11</th>\n",
       "      <td>4</td>\n",
       "      <td>8</td>\n",
       "      <td>4</td>\n",
       "      <td>13649</td>\n",
       "      <td>83.101386</td>\n",
       "      <td>257.944102</td>\n",
       "    </tr>\n",
       "    <tr>\n",
       "      <th>12</th>\n",
       "      <td>4</td>\n",
       "      <td>9</td>\n",
       "      <td>6</td>\n",
       "      <td>61025</td>\n",
       "      <td>369.222288</td>\n",
       "      <td>-423.696710</td>\n",
       "    </tr>\n",
       "    <tr>\n",
       "      <th>13</th>\n",
       "      <td>4</td>\n",
       "      <td>1</td>\n",
       "      <td>2</td>\n",
       "      <td>37839</td>\n",
       "      <td>152.491327</td>\n",
       "      <td>-27.774003</td>\n",
       "    </tr>\n",
       "    <tr>\n",
       "      <th>14</th>\n",
       "      <td>4</td>\n",
       "      <td>4</td>\n",
       "      <td>2</td>\n",
       "      <td>32013</td>\n",
       "      <td>67.554288</td>\n",
       "      <td>-139.504187</td>\n",
       "    </tr>\n",
       "    <tr>\n",
       "      <th>15</th>\n",
       "      <td>4</td>\n",
       "      <td>6</td>\n",
       "      <td>0</td>\n",
       "      <td>1649</td>\n",
       "      <td>19.167095</td>\n",
       "      <td>33.965018</td>\n",
       "    </tr>\n",
       "    <tr>\n",
       "      <th>16</th>\n",
       "      <td>4</td>\n",
       "      <td>3</td>\n",
       "      <td>1</td>\n",
       "      <td>2136</td>\n",
       "      <td>68.770853</td>\n",
       "      <td>49.955679</td>\n",
       "    </tr>\n",
       "    <tr>\n",
       "      <th>17</th>\n",
       "      <td>4</td>\n",
       "      <td>1</td>\n",
       "      <td>8</td>\n",
       "      <td>122705</td>\n",
       "      <td>989.075399</td>\n",
       "      <td>-147.410497</td>\n",
       "    </tr>\n",
       "    <tr>\n",
       "      <th>18</th>\n",
       "      <td>4</td>\n",
       "      <td>10</td>\n",
       "      <td>2</td>\n",
       "      <td>34425</td>\n",
       "      <td>115.419123</td>\n",
       "      <td>-103.457363</td>\n",
       "    </tr>\n",
       "    <tr>\n",
       "      <th>19</th>\n",
       "      <td>4</td>\n",
       "      <td>0</td>\n",
       "      <td>7</td>\n",
       "      <td>39603</td>\n",
       "      <td>-652.404600</td>\n",
       "      <td>393.715936</td>\n",
       "    </tr>\n",
       "    <tr>\n",
       "      <th>20</th>\n",
       "      <td>4</td>\n",
       "      <td>7</td>\n",
       "      <td>5</td>\n",
       "      <td>45118</td>\n",
       "      <td>306.321045</td>\n",
       "      <td>-264.938517</td>\n",
       "    </tr>\n",
       "    <tr>\n",
       "      <th>21</th>\n",
       "      <td>4</td>\n",
       "      <td>0</td>\n",
       "      <td>4</td>\n",
       "      <td>28263</td>\n",
       "      <td>-233.227358</td>\n",
       "      <td>138.007243</td>\n",
       "    </tr>\n",
       "    <tr>\n",
       "      <th>22</th>\n",
       "      <td>4</td>\n",
       "      <td>2</td>\n",
       "      <td>4</td>\n",
       "      <td>32790</td>\n",
       "      <td>-269.156830</td>\n",
       "      <td>31.553144</td>\n",
       "    </tr>\n",
       "    <tr>\n",
       "      <th>23</th>\n",
       "      <td>4</td>\n",
       "      <td>0</td>\n",
       "      <td>0</td>\n",
       "      <td>4048</td>\n",
       "      <td>-33.313883</td>\n",
       "      <td>20.277703</td>\n",
       "    </tr>\n",
       "    <tr>\n",
       "      <th>24</th>\n",
       "      <td>4</td>\n",
       "      <td>1</td>\n",
       "      <td>5</td>\n",
       "      <td>49502</td>\n",
       "      <td>399.034306</td>\n",
       "      <td>-69.257654</td>\n",
       "    </tr>\n",
       "    <tr>\n",
       "      <th>25</th>\n",
       "      <td>4</td>\n",
       "      <td>6</td>\n",
       "      <td>2</td>\n",
       "      <td>6713</td>\n",
       "      <td>72.681746</td>\n",
       "      <td>136.902753</td>\n",
       "    </tr>\n",
       "    <tr>\n",
       "      <th>26</th>\n",
       "      <td>4</td>\n",
       "      <td>3</td>\n",
       "      <td>5</td>\n",
       "      <td>5004</td>\n",
       "      <td>330.143459</td>\n",
       "      <td>234.585371</td>\n",
       "    </tr>\n",
       "    <tr>\n",
       "      <th>27</th>\n",
       "      <td>4</td>\n",
       "      <td>1</td>\n",
       "      <td>6</td>\n",
       "      <td>68761</td>\n",
       "      <td>554.298192</td>\n",
       "      <td>-92.722783</td>\n",
       "    </tr>\n",
       "    <tr>\n",
       "      <th>28</th>\n",
       "      <td>4</td>\n",
       "      <td>0</td>\n",
       "      <td>1</td>\n",
       "      <td>8856</td>\n",
       "      <td>-73.040036</td>\n",
       "      <td>43.475891</td>\n",
       "    </tr>\n",
       "    <tr>\n",
       "      <th>29</th>\n",
       "      <td>4</td>\n",
       "      <td>10</td>\n",
       "      <td>4</td>\n",
       "      <td>60240</td>\n",
       "      <td>202.661397</td>\n",
       "      <td>-179.914864</td>\n",
       "    </tr>\n",
       "    <tr>\n",
       "      <th>...</th>\n",
       "      <td>...</td>\n",
       "      <td>...</td>\n",
       "      <td>...</td>\n",
       "      <td>...</td>\n",
       "      <td>...</td>\n",
       "      <td>...</td>\n",
       "    </tr>\n",
       "    <tr>\n",
       "      <th>208857</th>\n",
       "      <td>19989</td>\n",
       "      <td>6</td>\n",
       "      <td>8</td>\n",
       "      <td>18722</td>\n",
       "      <td>592.934771</td>\n",
       "      <td>805.250494</td>\n",
       "    </tr>\n",
       "    <tr>\n",
       "      <th>208858</th>\n",
       "      <td>19989</td>\n",
       "      <td>1</td>\n",
       "      <td>4</td>\n",
       "      <td>14797</td>\n",
       "      <td>55.369622</td>\n",
       "      <td>265.283254</td>\n",
       "    </tr>\n",
       "    <tr>\n",
       "      <th>208859</th>\n",
       "      <td>19989</td>\n",
       "      <td>6</td>\n",
       "      <td>4</td>\n",
       "      <td>6769</td>\n",
       "      <td>219.859130</td>\n",
       "      <td>158.439145</td>\n",
       "    </tr>\n",
       "    <tr>\n",
       "      <th>208860</th>\n",
       "      <td>19989</td>\n",
       "      <td>3</td>\n",
       "      <td>3</td>\n",
       "      <td>26300</td>\n",
       "      <td>-212.680801</td>\n",
       "      <td>11.656617</td>\n",
       "    </tr>\n",
       "    <tr>\n",
       "      <th>208861</th>\n",
       "      <td>19989</td>\n",
       "      <td>4</td>\n",
       "      <td>6</td>\n",
       "      <td>27666</td>\n",
       "      <td>-436.911218</td>\n",
       "      <td>353.486332</td>\n",
       "    </tr>\n",
       "    <tr>\n",
       "      <th>208862</th>\n",
       "      <td>19989</td>\n",
       "      <td>5</td>\n",
       "      <td>2</td>\n",
       "      <td>4197</td>\n",
       "      <td>120.822305</td>\n",
       "      <td>97.092587</td>\n",
       "    </tr>\n",
       "    <tr>\n",
       "      <th>208863</th>\n",
       "      <td>19989</td>\n",
       "      <td>6</td>\n",
       "      <td>7</td>\n",
       "      <td>12624</td>\n",
       "      <td>515.185662</td>\n",
       "      <td>561.451452</td>\n",
       "    </tr>\n",
       "    <tr>\n",
       "      <th>208864</th>\n",
       "      <td>19989</td>\n",
       "      <td>2</td>\n",
       "      <td>1</td>\n",
       "      <td>17490</td>\n",
       "      <td>35.564366</td>\n",
       "      <td>-77.202175</td>\n",
       "    </tr>\n",
       "    <tr>\n",
       "      <th>208865</th>\n",
       "      <td>19989</td>\n",
       "      <td>1</td>\n",
       "      <td>7</td>\n",
       "      <td>20979</td>\n",
       "      <td>147.070849</td>\n",
       "      <td>747.672499</td>\n",
       "    </tr>\n",
       "    <tr>\n",
       "      <th>208866</th>\n",
       "      <td>19989</td>\n",
       "      <td>0</td>\n",
       "      <td>7</td>\n",
       "      <td>20587</td>\n",
       "      <td>166.251500</td>\n",
       "      <td>743.642682</td>\n",
       "    </tr>\n",
       "    <tr>\n",
       "      <th>208867</th>\n",
       "      <td>19989</td>\n",
       "      <td>1</td>\n",
       "      <td>6</td>\n",
       "      <td>15425</td>\n",
       "      <td>110.817436</td>\n",
       "      <td>550.965966</td>\n",
       "    </tr>\n",
       "    <tr>\n",
       "      <th>208868</th>\n",
       "      <td>19989</td>\n",
       "      <td>1</td>\n",
       "      <td>1</td>\n",
       "      <td>4602</td>\n",
       "      <td>18.323630</td>\n",
       "      <td>83.001473</td>\n",
       "    </tr>\n",
       "    <tr>\n",
       "      <th>208869</th>\n",
       "      <td>19989</td>\n",
       "      <td>2</td>\n",
       "      <td>5</td>\n",
       "      <td>41681</td>\n",
       "      <td>170.080905</td>\n",
       "      <td>-367.556099</td>\n",
       "    </tr>\n",
       "    <tr>\n",
       "      <th>208870</th>\n",
       "      <td>19989</td>\n",
       "      <td>4</td>\n",
       "      <td>2</td>\n",
       "      <td>16114</td>\n",
       "      <td>-132.739029</td>\n",
       "      <td>80.033432</td>\n",
       "    </tr>\n",
       "    <tr>\n",
       "      <th>208871</th>\n",
       "      <td>19989</td>\n",
       "      <td>1</td>\n",
       "      <td>0</td>\n",
       "      <td>2089</td>\n",
       "      <td>8.956625</td>\n",
       "      <td>37.957593</td>\n",
       "    </tr>\n",
       "    <tr>\n",
       "      <th>208872</th>\n",
       "      <td>19989</td>\n",
       "      <td>6</td>\n",
       "      <td>2</td>\n",
       "      <td>3592</td>\n",
       "      <td>129.706803</td>\n",
       "      <td>84.859562</td>\n",
       "    </tr>\n",
       "    <tr>\n",
       "      <th>208873</th>\n",
       "      <td>19989</td>\n",
       "      <td>0</td>\n",
       "      <td>2</td>\n",
       "      <td>8287</td>\n",
       "      <td>35.968859</td>\n",
       "      <td>150.768834</td>\n",
       "    </tr>\n",
       "    <tr>\n",
       "      <th>208874</th>\n",
       "      <td>19989</td>\n",
       "      <td>3</td>\n",
       "      <td>5</td>\n",
       "      <td>24774</td>\n",
       "      <td>-403.602886</td>\n",
       "      <td>33.611166</td>\n",
       "    </tr>\n",
       "    <tr>\n",
       "      <th>208875</th>\n",
       "      <td>19989</td>\n",
       "      <td>2</td>\n",
       "      <td>8</td>\n",
       "      <td>102726</td>\n",
       "      <td>411.317486</td>\n",
       "      <td>-911.492142</td>\n",
       "    </tr>\n",
       "    <tr>\n",
       "      <th>208876</th>\n",
       "      <td>19989</td>\n",
       "      <td>1</td>\n",
       "      <td>8</td>\n",
       "      <td>27630</td>\n",
       "      <td>188.171011</td>\n",
       "      <td>982.136279</td>\n",
       "    </tr>\n",
       "    <tr>\n",
       "      <th>208877</th>\n",
       "      <td>19989</td>\n",
       "      <td>6</td>\n",
       "      <td>3</td>\n",
       "      <td>5130</td>\n",
       "      <td>175.542359</td>\n",
       "      <td>120.639463</td>\n",
       "    </tr>\n",
       "    <tr>\n",
       "      <th>208878</th>\n",
       "      <td>19989</td>\n",
       "      <td>0</td>\n",
       "      <td>3</td>\n",
       "      <td>11394</td>\n",
       "      <td>49.280411</td>\n",
       "      <td>207.220754</td>\n",
       "    </tr>\n",
       "    <tr>\n",
       "      <th>208879</th>\n",
       "      <td>19989</td>\n",
       "      <td>5</td>\n",
       "      <td>8</td>\n",
       "      <td>13419</td>\n",
       "      <td>783.232351</td>\n",
       "      <td>621.729108</td>\n",
       "    </tr>\n",
       "    <tr>\n",
       "      <th>208880</th>\n",
       "      <td>19989</td>\n",
       "      <td>4</td>\n",
       "      <td>3</td>\n",
       "      <td>21969</td>\n",
       "      <td>-180.115537</td>\n",
       "      <td>113.698696</td>\n",
       "    </tr>\n",
       "    <tr>\n",
       "      <th>208881</th>\n",
       "      <td>19989</td>\n",
       "      <td>6</td>\n",
       "      <td>1</td>\n",
       "      <td>1879</td>\n",
       "      <td>72.346922</td>\n",
       "      <td>44.619759</td>\n",
       "    </tr>\n",
       "    <tr>\n",
       "      <th>208882</th>\n",
       "      <td>19989</td>\n",
       "      <td>1</td>\n",
       "      <td>3</td>\n",
       "      <td>11613</td>\n",
       "      <td>43.938296</td>\n",
       "      <td>208.418872</td>\n",
       "    </tr>\n",
       "    <tr>\n",
       "      <th>208883</th>\n",
       "      <td>19989</td>\n",
       "      <td>0</td>\n",
       "      <td>5</td>\n",
       "      <td>10865</td>\n",
       "      <td>92.111454</td>\n",
       "      <td>394.386207</td>\n",
       "    </tr>\n",
       "    <tr>\n",
       "      <th>208884</th>\n",
       "      <td>19989</td>\n",
       "      <td>2</td>\n",
       "      <td>4</td>\n",
       "      <td>55798</td>\n",
       "      <td>114.204060</td>\n",
       "      <td>-245.760926</td>\n",
       "    </tr>\n",
       "    <tr>\n",
       "      <th>208885</th>\n",
       "      <td>19989</td>\n",
       "      <td>0</td>\n",
       "      <td>1</td>\n",
       "      <td>4548</td>\n",
       "      <td>19.639512</td>\n",
       "      <td>82.699997</td>\n",
       "    </tr>\n",
       "    <tr>\n",
       "      <th>208886</th>\n",
       "      <td>19989</td>\n",
       "      <td>3</td>\n",
       "      <td>0</td>\n",
       "      <td>4862</td>\n",
       "      <td>-38.987814</td>\n",
       "      <td>0.974875</td>\n",
       "    </tr>\n",
       "  </tbody>\n",
       "</table>\n",
       "<p>208887 rows × 6 columns</p>\n",
       "</div>"
      ],
      "text/plain": [
       "        event_id  cluster_id  layer    iphi           x           y\n",
       "0              4           8      2    7830   46.974183  147.710616\n",
       "1              4           4      5   42052  186.731559 -359.383256\n",
       "2              4           9      3   46355  141.775135 -158.961666\n",
       "3              4          10      1   18866   63.089465  -56.962438\n",
       "4              4           0      3   22217 -183.348295  108.408499\n",
       "5              4           3      6    6880  459.967978  322.914012\n",
       "6              4           6      8   22862  414.778170  909.922562\n",
       "7              4           8      6   14056  176.935865  533.420753\n",
       "8              4           5      8    9204  895.964168  444.126344\n",
       "9              4           5      1    1501   76.850693   36.317639\n",
       "10             4           9      5   44015  267.519495 -304.069597\n",
       "11             4           8      4   13649   83.101386  257.944102\n",
       "12             4           9      6   61025  369.222288 -423.696710\n",
       "13             4           1      2   37839  152.491327  -27.774003\n",
       "14             4           4      2   32013   67.554288 -139.504187\n",
       "15             4           6      0    1649   19.167095   33.965018\n",
       "16             4           3      1    2136   68.770853   49.955679\n",
       "17             4           1      8  122705  989.075399 -147.410497\n",
       "18             4          10      2   34425  115.419123 -103.457363\n",
       "19             4           0      7   39603 -652.404600  393.715936\n",
       "20             4           7      5   45118  306.321045 -264.938517\n",
       "21             4           0      4   28263 -233.227358  138.007243\n",
       "22             4           2      4   32790 -269.156830   31.553144\n",
       "23             4           0      0    4048  -33.313883   20.277703\n",
       "24             4           1      5   49502  399.034306  -69.257654\n",
       "25             4           6      2    6713   72.681746  136.902753\n",
       "26             4           3      5    5004  330.143459  234.585371\n",
       "27             4           1      6   68761  554.298192  -92.722783\n",
       "28             4           0      1    8856  -73.040036   43.475891\n",
       "29             4          10      4   60240  202.661397 -179.914864\n",
       "...          ...         ...    ...     ...         ...         ...\n",
       "208857     19989           6      8   18722  592.934771  805.250494\n",
       "208858     19989           1      4   14797   55.369622  265.283254\n",
       "208859     19989           6      4    6769  219.859130  158.439145\n",
       "208860     19989           3      3   26300 -212.680801   11.656617\n",
       "208861     19989           4      6   27666 -436.911218  353.486332\n",
       "208862     19989           5      2    4197  120.822305   97.092587\n",
       "208863     19989           6      7   12624  515.185662  561.451452\n",
       "208864     19989           2      1   17490   35.564366  -77.202175\n",
       "208865     19989           1      7   20979  147.070849  747.672499\n",
       "208866     19989           0      7   20587  166.251500  743.642682\n",
       "208867     19989           1      6   15425  110.817436  550.965966\n",
       "208868     19989           1      1    4602   18.323630   83.001473\n",
       "208869     19989           2      5   41681  170.080905 -367.556099\n",
       "208870     19989           4      2   16114 -132.739029   80.033432\n",
       "208871     19989           1      0    2089    8.956625   37.957593\n",
       "208872     19989           6      2    3592  129.706803   84.859562\n",
       "208873     19989           0      2    8287   35.968859  150.768834\n",
       "208874     19989           3      5   24774 -403.602886   33.611166\n",
       "208875     19989           2      8  102726  411.317486 -911.492142\n",
       "208876     19989           1      8   27630  188.171011  982.136279\n",
       "208877     19989           6      3    5130  175.542359  120.639463\n",
       "208878     19989           0      3   11394   49.280411  207.220754\n",
       "208879     19989           5      8   13419  783.232351  621.729108\n",
       "208880     19989           4      3   21969 -180.115537  113.698696\n",
       "208881     19989           6      1    1879   72.346922   44.619759\n",
       "208882     19989           1      3   11613   43.938296  208.418872\n",
       "208883     19989           0      5   10865   92.111454  394.386207\n",
       "208884     19989           2      4   55798  114.204060 -245.760926\n",
       "208885     19989           0      1    4548   19.639512   82.699997\n",
       "208886     19989           3      0    4862  -38.987814    0.974875\n",
       "\n",
       "[208887 rows x 6 columns]"
      ]
     },
     "execution_count": 3,
     "metadata": {},
     "output_type": "execute_result"
    }
   ],
   "source": [
    "df"
   ]
  },
  {
   "cell_type": "code",
   "execution_count": 4,
   "metadata": {
    "collapsed": true
   },
   "outputs": [],
   "source": [
    "y = df[['event_id', 'cluster_id']].values\n",
    "X = df.drop(['cluster_id'], axis=1).values"
   ]
  },
  {
   "cell_type": "markdown",
   "metadata": {},
   "source": [
    "### Looping over events"
   ]
  },
  {
   "cell_type": "code",
   "execution_count": 5,
   "metadata": {
    "collapsed": true
   },
   "outputs": [],
   "source": [
    "y_events = y[:, 0]"
   ]
  },
  {
   "cell_type": "code",
   "execution_count": 6,
   "metadata": {
    "collapsed": true
   },
   "outputs": [],
   "source": [
    "events = np.unique(y_events)"
   ]
  },
  {
   "cell_type": "markdown",
   "metadata": {},
   "source": [
    "### Visualize the hits in a single event"
   ]
  },
  {
   "cell_type": "code",
   "execution_count": 56,
   "metadata": {
    "collapsed": true
   },
   "outputs": [],
   "source": [
    "event_id = 42\n",
    "event_indices = (X[:, 0] == event_id)\n",
    "X_event = X[event_indices, 1:] # event_id column dropped\n",
    "pixel_x = X_event[:, 2]\n",
    "pixel_y = X_event[:, 3]\n",
    "tracks = y[event_indices][: ,1]"
   ]
  },
  {
   "cell_type": "markdown",
   "metadata": {},
   "source": [
    "#### Hits from all tracks"
   ]
  },
  {
   "cell_type": "code",
   "execution_count": 57,
   "metadata": {},
   "outputs": [
    {
     "data": {
      "image/png": "[encoded data removed]",
      "text/plain": [
       "<matplotlib.figure.Figure at 0x10e96f250>"
      ]
     },
     "metadata": {},
     "output_type": "display_data"
    }
   ],
   "source": [
    "plt.scatter(pixel_x, pixel_y)\n",
    "plt.axis('equal')\n",
    "plt.show()"
   ]
  },
  {
   "cell_type": "markdown",
   "metadata": {},
   "source": [
    "This is what the algorithm will see."
   ]
  },
  {
   "cell_type": "markdown",
   "metadata": {},
   "source": [
    "#### Hits from a single track"
   ]
  },
  {
   "cell_type": "code",
   "execution_count": 58,
   "metadata": {},
   "outputs": [
    {
     "data": {
      "image/png": "[encoded data removed]",
      "text/plain": [
       "<matplotlib.figure.Figure at 0x10f6df390>"
      ]
     },
     "metadata": {},
     "output_type": "display_data"
    }
   ],
   "source": [
    "track_id = 2\n",
    "track_hits = (tracks == track_id)\n",
    "plt.scatter(pixel_x[track_hits], pixel_y[track_hits])\n",
    "plt.axis('equal')\n",
    "plt.show()"
   ]
  },
  {
   "cell_type": "markdown",
   "metadata": {},
   "source": [
    "So, ideally, our algorithm wants to assign specific ids to all hits in a way that corresponds to the particle. The perfect algorithm will split the event into various tracks:"
   ]
  },
  {
   "cell_type": "code",
   "execution_count": 59,
   "metadata": {},
   "outputs": [
    {
     "data": {
      "image/png": "[encoded data removed]",
      "text/plain": [
       "<matplotlib.figure.Figure at 0x10f74eb90>"
      ]
     },
     "metadata": {},
     "output_type": "display_data"
    }
   ],
   "source": [
    "cmap = ['k', 'b', 'y', 'g', 'r', 'k', 'b']\n",
    "for track_id in np.unique(tracks):\n",
    "    track_hits = (tracks == track_id)\n",
    "    plt.scatter(pixel_x[track_hits], pixel_y[track_hits], color=cmap[int(track_id) % 7])\n",
    "plt.show()"
   ]
  },
  {
   "cell_type": "markdown",
   "metadata": {},
   "source": [
    "## The clustering workflow\n",
    "\n",
    "The pipeline consists of a single element `clusterer.py` which should contain a class `Clusterer` implementing an `fit` function and a `predict_single_event` function. This letter should output a 1D integer array, grouping hits with the same id together.\n",
    "\n",
    "Note that the following code cells are *not* executed in the notebook. The notebook saves their contents in the file specified in the first line of the cell, so you can edit your submission before running the local test below and submitting it at the RAMP site."
   ]
  },
  {
   "cell_type": "code",
   "execution_count": 40,
   "metadata": {},
   "outputs": [
    {
     "name": "stdout",
     "output_type": "stream",
     "text": [
      "Overwriting submissions/starting_kit/clusterer.py\n"
     ]
    }
   ],
   "source": [
    "%%file submissions/starting_kit/clusterer.py\n",
    "import numpy as np\n",
    "from sklearn.base import BaseEstimator\n",
    "\n",
    "\n",
    "class Clusterer(BaseEstimator):\n",
    "    def __init__(self):\n",
    "        \"\"\"\n",
    "        Track pattern recognition.\n",
    "\n",
    "        Based on the connections between two nearest hits from two nearest\n",
    "        detector layers.\n",
    "\n",
    "        Parameters\n",
    "        ----------\n",
    "        min_cos_value : float\n",
    "            Minimum cos value between two nearest segments of the track.\n",
    "        \"\"\"\n",
    "        self.min_cos_value = 0.8\n",
    "\n",
    "    def fit(self, X, y):\n",
    "        pass\n",
    "\n",
    "    def predict_single_event(self, X_event):\n",
    "        layers, x, y = X_event[:, 0], X_event[:, 2], X_event[:, 3]\n",
    "        used = np.zeros(len(x))\n",
    "        labels = -1 * np.ones(len(x), dtype='int')\n",
    "        track_id = 0\n",
    "\n",
    "        # Start from a hit in the first layer\n",
    "        for first_id in np.arange(0, len(x))[layers == 0]:\n",
    "            track = []\n",
    "            track += [first_id]\n",
    "            used[first_id] = 1\n",
    "\n",
    "            # Go through other detector layers\n",
    "            for one_layer in np.unique(layers)[1:]:\n",
    "                # Select hits of the layer\n",
    "                hit_ids = np.arange(0, len(x))[\n",
    "                    (layers == one_layer) * (used == 0)]\n",
    "                # Compute distance between hits\n",
    "                diff_r = (x[track[-1]] - x[hit_ids]) ** 2\\\n",
    "                    + (y[track[-1]] - y[hit_ids]) ** 2\n",
    "                if len(diff_r) == 0:\n",
    "                    break\n",
    "                # Select new track hit\n",
    "                track_hit_id = hit_ids[diff_r == diff_r.min()][0]\n",
    "                # Check cos of angle between two track segments\n",
    "                if one_layer != 1:\n",
    "                    x1, x2, x3 = x[track[-2]], x[track[-1]], x[track_hit_id]\n",
    "                    y1, y2, y3 = y[track[-2]], y[track[-1]], y[track_hit_id]\n",
    "                    dx1, dx2 = x2 - x1, x3 - x2\n",
    "                    dy1, dy2 = y2 - y1, y3 - y2\n",
    "                    cosine = (dx1 * dx2 + dy1 * dy2) /\\\n",
    "                        np.sqrt((dx1 ** 2 + dy1 ** 2) * (dx2 ** 2 + dy2 ** 2))\n",
    "                    if cosine < self.min_cos_value:\n",
    "                        break\n",
    "                # Add new hit to the track\n",
    "                track += [track_hit_id]\n",
    "                used[track_hit_id] = 1\n",
    "            # Label the track hits\n",
    "            labels[track] = track_id\n",
    "            track_id += 1\n",
    "        return labels\n",
    "\n"
   ]
  },
  {
   "cell_type": "markdown",
   "metadata": {},
   "source": [
    "## Local testing (before submission)\n",
    "\n",
    "It is <b><span style=\"color:red\">important that you test your submission file before submitting it</span></b>. For this we provide a unit test. Note that the test runs on your files in [`submissions/starting_kit`](http://localhost:8890/tree/submissions/starting_kit).\n",
    "\n",
    "First `pip install ramp-workflow` or install it from the [github repo](https://github.com/paris-saclay-cds/ramp-workflow). Make sure that the python file `clusterer.py` is in the  [`submissions/starting_kit`](http://localhost:8890/tree/submissions/starting_kit) folder, and the data `train.csv` and `test.csv` are in [`data`](http://localhost:8890/tree/data). Then run\n",
    "\n",
    "```ramp_test_submission```\n",
    "\n",
    "If it runs and print training and test errors on each fold, then you can submit the code."
   ]
  },
  {
   "cell_type": "code",
   "execution_count": 14,
   "metadata": {},
   "outputs": [
    {
     "name": "stdout",
     "output_type": "stream",
     "text": [
      "Testing Particle tracking in the LHC ATLAS detector\n",
      "Reading train and test files from ./data ...\n",
      "Reading cv ...\n",
      "Training ./submissions/starting_kit ...\n",
      "CV fold 0\n",
      "\ttrain clustering efficiency = 0.841\n",
      "\tvalid clustering efficiency = 0.848\n",
      "\ttest clustering efficiency = 0.849\n",
      "----------------------------\n",
      "train clustering efficiency = 0.841 ± 0.0\n",
      "valid clustering efficiency = 0.848 ± 0.0\n",
      "test clustering efficiency = 0.849 ± 0.0\n",
      "----------------------------\n",
      "Testing if the notebook can be converted to html\n",
      "[NbConvertApp] Converting notebook ./HEP_tracking_starting_kit.ipynb to html\n",
      "[NbConvertApp] Writing 396685 bytes to ./HEP_tracking_starting_kit.html\n"
     ]
    }
   ],
   "source": [
    "!ramp_test_submission"
   ]
  },
  {
   "cell_type": "markdown",
   "metadata": {},
   "source": [
    "Alternatively, load and execute `rampwf.utils.testing.py`, and call `assert_submission`. This may be useful if you would like to understand how we instantiate the workflow, the scores, the data connectors, and the cross validation scheme defined in [`problem.py`](problem.py), and how we insert and train/test your submission."
   ]
  },
  {
   "cell_type": "code",
   "execution_count": 15,
   "metadata": {
    "collapsed": true
   },
   "outputs": [],
   "source": [
    "# %load https://raw.githubusercontent.com/paris-saclay-cds/ramp-workflow/master/rampwf/utils/testing.py"
   ]
  },
  {
   "cell_type": "code",
   "execution_count": 16,
   "metadata": {
    "collapsed": true
   },
   "outputs": [],
   "source": [
    "# assert_submission()"
   ]
  },
  {
   "cell_type": "markdown",
   "metadata": {},
   "source": [
    "## Submitting to [ramp.studio](http://ramp.studio)\n",
    "\n",
    "Once you found a good model, you can submit it to [ramp.studio](http://www.ramp.studio). First, if it is your first time using RAMP, [sign up](http://www.ramp.studio/sign_up), otherwise [log in](http://www.ramp.studio/login). Then find an open event on the particular problem, for example, the event [HEP tracking](https://www.ramp.studio/events/HEP_tracking) for this RAMP. Sign up for the event. Both signups are controled by RAMP administrators, so there **can be a delay between asking for signup and being able to submit**.\n",
    "\n",
    "Once your signup request is accepted, you can go to your [sandbox](http://www.ramp.studio/events/HEP_tracking/sandbox) and copy-paste (or upload) [`clusterer.py`](http://localhost:8890/edit/submissions/starting_kit/clusterer.py) from `submissions/starting_kit`. Save it, rename it, then submit it. The submission is trained and tested on our backend in the same way as `ramp_test_submission` does it locally. While your submission is waiting in the queue and being trained, you can find it in the \"New submissions (pending training)\" table in [my submissions](http://www.ramp.studio/events/HEP_tracking/my_submissions). Once it is trained, you get a mail, and your submission shows up on the [public leaderboard](http://www.ramp.studio/events/HEP_tracking/leaderboard). \n",
    "If there is an error (despite having tested your submission locally with `ramp_test_submission`), it will show up in the \"Failed submissions\" table in [my submissions](http://www.ramp.studio/events/HEP_tracking/my_submissions). You can click on the error to see part of the trace.\n",
    "\n",
    "After submission, do not forget to give credits to the previous submissions you reused or integrated into your submission.\n",
    "\n",
    "The data set we use at the backend is usually different from what you find in the starting kit, so the score may be different.\n",
    "\n",
    "The usual way to work with RAMP is to explore solutions, add feature transformations, select models, perhaps do some AutoML/hyperopt, etc., _locally_, and checking them with `ramp_test_submission`. The script prints mean cross-validation scores \n",
    "```\n",
    "----------------------------\n",
    "train clustering efficiency = 0.841 ± 0.0\n",
    "valid clustering efficiency = 0.848 ± 0.0\n",
    "test clustering efficiency = 0.849 ± 0.0\n",
    "```\n",
    "The official score in this RAMP (the first score column after \"historical contributivity\" on the [leaderboard](http://www.ramp.studio/events/HEP_tracking/leaderboard)) is clustering efficency, so the line that is relevant in the output of `ramp_test_submission` is `valid clustering efficiency = 0.848 ± 0.0`. When the score is good enough, you can submit it at the RAMP."
   ]
  },
  {
   "cell_type": "markdown",
   "metadata": {},
   "source": [
    "## Working in the notebook\n",
    "\n",
    "When you are developing and debugging your submission, you may want to stay in the notebook and execute the workflow step by step. You can import `problem.py` and call the ingredients directly, or even deconstruct the code from [ramp-workflow](https://github.com/paris-saclay-cds/ramp-workflow)."
   ]
  },
  {
   "cell_type": "code",
   "execution_count": 17,
   "metadata": {
    "collapsed": true
   },
   "outputs": [],
   "source": [
    "import imp\n",
    "problem = imp.load_source('', 'problem.py')"
   ]
  },
  {
   "cell_type": "markdown",
   "metadata": {},
   "source": [
    "Get the training data."
   ]
  },
  {
   "cell_type": "code",
   "execution_count": 18,
   "metadata": {
    "collapsed": true
   },
   "outputs": [],
   "source": [
    "X_train, y_train = problem.get_train_data()"
   ]
  },
  {
   "cell_type": "code",
   "execution_count": 19,
   "metadata": {},
   "outputs": [
    {
     "data": {
      "text/plain": [
       "array([[  4.00000000e+00,   2.00000000e+00,   7.83000000e+03,\n",
       "          4.69741834e+01,   1.47710616e+02],\n",
       "       [  4.00000000e+00,   5.00000000e+00,   4.20520000e+04,\n",
       "          1.86731559e+02,  -3.59383256e+02],\n",
       "       [  4.00000000e+00,   3.00000000e+00,   4.63550000e+04,\n",
       "          1.41775135e+02,  -1.58961666e+02],\n",
       "       ..., \n",
       "       [  1.99890000e+04,   4.00000000e+00,   5.57980000e+04,\n",
       "          1.14204060e+02,  -2.45760926e+02],\n",
       "       [  1.99890000e+04,   1.00000000e+00,   4.54800000e+03,\n",
       "          1.96395116e+01,   8.26999975e+01],\n",
       "       [  1.99890000e+04,   0.00000000e+00,   4.86200000e+03,\n",
       "         -3.89878137e+01,   9.74875478e-01]])"
      ]
     },
     "execution_count": 19,
     "metadata": {},
     "output_type": "execute_result"
    }
   ],
   "source": [
    "X_train"
   ]
  },
  {
   "cell_type": "code",
   "execution_count": 20,
   "metadata": {},
   "outputs": [
    {
     "data": {
      "text/plain": [
       "array([[    4,     8],\n",
       "       [    4,     4],\n",
       "       [    4,     9],\n",
       "       ..., \n",
       "       [19989,     2],\n",
       "       [19989,     0],\n",
       "       [19989,     3]])"
      ]
     },
     "execution_count": 20,
     "metadata": {},
     "output_type": "execute_result"
    }
   ],
   "source": [
    "y_train"
   ]
  },
  {
   "cell_type": "markdown",
   "metadata": {},
   "source": [
    "Get the first cv fold, creating training and validation indices. The [particular CV](https://github.com/paris-saclay-cds/ramp-workflow/blob/master/rampwf/cvs/clustering.py) creates folds that don't cut through events. We use a single train/test cut."
   ]
  },
  {
   "cell_type": "code",
   "execution_count": 21,
   "metadata": {
    "collapsed": true
   },
   "outputs": [],
   "source": [
    "train_is, test_is = list(problem.get_cv(X_train, y_train))[0]"
   ]
  },
  {
   "cell_type": "code",
   "execution_count": 32,
   "metadata": {},
   "outputs": [
    {
     "data": {
      "text/plain": [
       "array([[   42,     3],\n",
       "       [   42,     2],\n",
       "       [   42,     3],\n",
       "       ..., \n",
       "       [19978,     2],\n",
       "       [19978,     2],\n",
       "       [19978,     3]])"
      ]
     },
     "execution_count": 32,
     "metadata": {},
     "output_type": "execute_result"
    }
   ],
   "source": [
    "test_is"
   ]
  },
  {
   "cell_type": "markdown",
   "metadata": {},
   "source": [
    "Train your starting kit."
   ]
  },
  {
   "cell_type": "code",
   "execution_count": 23,
   "metadata": {
    "collapsed": true
   },
   "outputs": [],
   "source": [
    "cls = problem.workflow.train_submission(\n",
    "    'submissions/starting_kit', X_train, y_train, train_is)"
   ]
  },
  {
   "cell_type": "markdown",
   "metadata": {},
   "source": [
    "Get the full prediction (train and validation)."
   ]
  },
  {
   "cell_type": "code",
   "execution_count": 24,
   "metadata": {
    "collapsed": true
   },
   "outputs": [],
   "source": [
    "y_pred = problem.workflow.test_submission(cls, X_train)"
   ]
  },
  {
   "cell_type": "markdown",
   "metadata": {},
   "source": [
    "Print the training and validation scores."
   ]
  },
  {
   "cell_type": "code",
   "execution_count": 26,
   "metadata": {},
   "outputs": [
    {
     "name": "stdout",
     "output_type": "stream",
     "text": [
      "0.840562926519\n"
     ]
    }
   ],
   "source": [
    "score_train = problem.score_types[0](y_train[train_is], y_pred[train_is])\n",
    "print(score_train)"
   ]
  },
  {
   "cell_type": "code",
   "execution_count": 27,
   "metadata": {},
   "outputs": [
    {
     "name": "stdout",
     "output_type": "stream",
     "text": [
      "0.847878182689\n"
     ]
    }
   ],
   "source": [
    "score_test = problem.score_types[0](y_train[test_is], y_pred[test_is])\n",
    "print(score_test)"
   ]
  },
  {
   "cell_type": "markdown",
   "metadata": {},
   "source": [
    "Get the independent test data."
   ]
  },
  {
   "cell_type": "code",
   "execution_count": 28,
   "metadata": {
    "collapsed": true
   },
   "outputs": [],
   "source": [
    "X_test, y_test = problem.get_test_data()"
   ]
  },
  {
   "cell_type": "markdown",
   "metadata": {},
   "source": [
    "Test the submission on it."
   ]
  },
  {
   "cell_type": "code",
   "execution_count": 30,
   "metadata": {
    "collapsed": true
   },
   "outputs": [],
   "source": [
    "y_test_pred = problem.workflow.test_submission(cls, X_test)"
   ]
  },
  {
   "cell_type": "markdown",
   "metadata": {},
   "source": [
    "Print the test score."
   ]
  },
  {
   "cell_type": "code",
   "execution_count": 31,
   "metadata": {},
   "outputs": [
    {
     "name": "stdout",
     "output_type": "stream",
     "text": [
      "0.849076880151\n"
     ]
    }
   ],
   "source": [
    "score_test = problem.score_types[0](y_test, y_test_pred)\n",
    "print(score_test)"
   ]
  },
  {
   "cell_type": "markdown",
   "metadata": {},
   "source": [
    "To see what how the workflow, the cross-validation, and the score work, visit [rw.workflows.clusterer](https://github.com/paris-saclay-cds/ramp-workflow/blob/master/rampwf/workflows/clusterer.py), [rw.cvs.clustering](https://github.com/paris-saclay-cds/ramp-workflow/blob/master/rampwf/cvs/clustering.py), and [rw.score_types.clustering_efficiency](https://github.com/paris-saclay-cds/ramp-workflow/blob/master/rampwf/score_types/clustering_efficiency.py)."
   ]
  },
  {
   "cell_type": "markdown",
   "metadata": {},
   "source": [
    "### Visualizing the prediced tracks for the same event we looked at above."
   ]
  },
  {
   "cell_type": "code",
   "execution_count": 69,
   "metadata": {
    "collapsed": true
   },
   "outputs": [],
   "source": [
    "y_pred_event = y_pred[y_pred[:, 0] == event_id]"
   ]
  },
  {
   "cell_type": "code",
   "execution_count": 70,
   "metadata": {},
   "outputs": [
    {
     "data": {
      "text/plain": [
       "array([ 6,  3,  6,  3,  1,  1,  8,  8,  3,  0,  4, -1,  7,  0,  1,  2,  0,\n",
       "        4,  8,  3,  7,  4,  2,  2,  1,  1,  1,  3,  2,  4,  2,  2,  0,  6,\n",
       "        8,  3,  3,  4,  0,  8,  0,  6, -1,  1,  8,  6,  6,  6,  2,  4,  0,\n",
       "        1, -1,  6, -1,  5,  8,  2,  1,  5,  4,  6,  7,  0, -1,  8,  3,  3,\n",
       "        4,  2,  4,  8,  0,  5])"
      ]
     },
     "execution_count": 70,
     "metadata": {},
     "output_type": "execute_result"
    }
   ],
   "source": [
    "tracks = y_pred_event[:, 1]\n",
    "tracks"
   ]
  },
  {
   "cell_type": "code",
   "execution_count": 71,
   "metadata": {},
   "outputs": [
    {
     "data": {
      "image/png": "[encoded data removed]",
      "text/plain": [
       "<matplotlib.figure.Figure at 0x10e7f7b50>"
      ]
     },
     "metadata": {},
     "output_type": "display_data"
    }
   ],
   "source": [
    "for track_id in np.unique(tracks):\n",
    "    track_hits = (tracks == track_id)\n",
    "    plt.scatter(pixel_x[track_hits], pixel_y[track_hits], color=cmap[int(track_id) % 7])\n",
    "plt.show()"
   ]
  },
  {
   "cell_type": "markdown",
   "metadata": {},
   "source": [
    "It seems the algorithm missed a complete track."
   ]
  },
  {
   "cell_type": "code",
   "execution_count": 72,
   "metadata": {},
   "outputs": [
    {
     "data": {
      "image/png": "[encoded data removed]",
      "text/plain": [
       "<matplotlib.figure.Figure at 0x10e594b10>"
      ]
     },
     "metadata": {},
     "output_type": "display_data"
    }
   ],
   "source": [
    "unassigned_hits = (tracks == -1)\n",
    "plt.scatter(pixel_x[track_hits], pixel_y[track_hits], color='black')\n",
    "plt.show()"
   ]
  },
  {
   "cell_type": "markdown",
   "metadata": {},
   "source": [
    "## More information\n",
    "\n",
    "You can find more information in the [README](https://github.com/paris-saclay-cds/ramp-workflow/blob/master/README.md) of the [ramp-workflow library](https://github.com/paris-saclay-cds/ramp-workflow)."
   ]
  },
  {
   "cell_type": "markdown",
   "metadata": {},
   "source": [
    "## Contact\n",
    "\n",
    "Don't hesitate to [contact us](mailto:admin@ramp.studio?subject=HEP tracking notebook)."
   ]
  }
 ],
 "metadata": {
  "anaconda-cloud": {},
  "kernelspec": {
   "display_name": "Python 2",
   "language": "python",
   "name": "python2"
  },
  "language_info": {
   "codemirror_mode": {
    "name": "ipython",
    "version": 2
   },
   "file_extension": ".py",
   "mimetype": "text/x-python",
   "name": "python",
   "nbconvert_exporter": "python",
   "pygments_lexer": "ipython2",
   "version": "2.7.12"
  }
 },
 "nbformat": 4,
 "nbformat_minor": 2
}
